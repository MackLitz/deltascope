{
 "cells": [
  {
   "cell_type": "markdown",
   "metadata": {},
   "source": [
    "# Introduction\n",
    "This notebook facilitates the manual curation of sample alignment."
   ]
  },
  {
   "cell_type": "code",
   "execution_count": 2,
   "metadata": {},
   "outputs": [],
   "source": [
    "import deltascope.alignment as ut\n",
    "\n",
    "import numpy as np\n",
    "import pandas as pd\n",
    "import matplotlib.pyplot as plt\n",
    "import h5py\n",
    "\n",
    "import os\n",
    "import re\n",
    "import time\n",
    "import tqdm"
   ]
  },
  {
   "cell_type": "markdown",
   "metadata": {},
   "source": [
    "# Setup"
   ]
  },
  {
   "cell_type": "markdown",
   "metadata": {},
   "source": [
    "## Parameters"
   ]
  },
  {
   "cell_type": "code",
   "execution_count": 9,
   "metadata": {
    "collapsed": true
   },
   "outputs": [],
   "source": [
    "# --------------------------------\n",
    "# -------- User input ------------\n",
    "# --------------------------------\n",
    "\n",
    "param = {\n",
    "    'gthresh':0.5,\n",
    "    'scale':[1,1,1],\n",
    "    'microns':[0.16,0.16,0.21],\n",
    "    'mthresh':0.5,\n",
    "    'radius':10,\n",
    "    'comp_order':[0,2,1],\n",
    "    'fit_dim':['x','z'],\n",
    "    'deg':2,\n",
    "    'expname':'expname'\n",
    "}"
   ]
  },
  {
   "cell_type": "markdown",
   "metadata": {},
   "source": [
    "## Directories"
   ]
  },
  {
   "cell_type": "code",
   "execution_count": null,
   "metadata": {},
   "outputs": [],
   "source": [
    "# --------------------------------\n",
    "# -------- User input ------------\n",
    "# --------------------------------\n",
    "\n",
    "# Specify file paths to directories containing probability files\n",
    "# after processing by ilastik\n",
    "gfap = os.path.absolute('..\\expname\\GFAP\\Prob')\n",
    "at = os.path.absolute('..\\expname\\AT\\Prob')\n",
    "\n",
    "# Specify root directory where output will be saved\n",
    "root = os.path.absolute('..\\expname')"
   ]
  },
  {
   "cell_type": "code",
   "execution_count": null,
   "metadata": {},
   "outputs": [],
   "source": [
    "# Output directory with timestamp\n",
    "outname = 'Output'+time.strftime(\"%m-%d-%H-%M\",\n",
    "                                 time.localtime())\n",
    "\n",
    "# Create output directory\n",
    "outdir = os.path.join(root,outname)\n",
    "os.mkdir(outdir)"
   ]
  },
  {
   "cell_type": "markdown",
   "metadata": {},
   "source": [
    "## Extract list of files"
   ]
  },
  {
   "cell_type": "code",
   "execution_count": 5,
   "metadata": {
    "collapsed": true
   },
   "outputs": [],
   "source": [
    "Dat = {}\n",
    "for f in os.listdir(at):\n",
    "    if 'h5' in f:\n",
    "        num  = re.findall(r'\\d+',f.split('.')[0])[-1]\n",
    "        Dat[num] = os.path.join(at,f)"
   ]
  },
  {
   "cell_type": "code",
   "execution_count": 6,
   "metadata": {
    "collapsed": true
   },
   "outputs": [],
   "source": [
    "Dzrf = {}\n",
    "for f in os.listdir(gfap):\n",
    "    if 'h5' in f:\n",
    "        num  = re.findall(r'\\d+',f.split('.')[0])[-1]\n",
    "        Dzrf[num] = os.path.join(gfap,f)"
   ]
  },
  {
   "cell_type": "code",
   "execution_count": null,
   "metadata": {},
   "outputs": [],
   "source": [
    "# Extract list of filename keys\n",
    "klist = Dat.keys()"
   ]
  },
  {
   "cell_type": "markdown",
   "metadata": {},
   "source": [
    "# Import raw data"
   ]
  },
  {
   "cell_type": "code",
   "execution_count": 10,
   "metadata": {
    "collapsed": false,
    "scrolled": true
   },
   "outputs": [
    {
     "name": "stderr",
     "output_type": "stream",
     "text": [
      "C:\\Users\\zfishlab\\AppData\\Local\\Continuum\\Anaconda3\\lib\\site-packages\\skimage\\util\\dtype.py:110: UserWarning: Possible precision loss when converting from float32 to uint8\n",
      "  \"%s to %s\" % (dtypeobj_in, dtypeobj))\n"
     ]
    },
    {
     "name": "stdout",
     "output_type": "stream",
     "text": [
      "3\n",
      "11\n",
      "010\n",
      "09\n",
      "016\n",
      "02\n",
      "14\n",
      "10\n",
      "014\n",
      "5\n",
      "07\n",
      "12\n",
      "03\n",
      "16\n",
      "08\n",
      "13\n",
      "2\n",
      "7\n",
      "012\n",
      "06\n",
      "Wall time: 12min 3s\n"
     ]
    }
   ],
   "source": [
    "%%time\n",
    "for k in tqdm.tqdm(klist):\n",
    "    if k not in list(Dbat.keys()):\n",
    "        Dbat[k] = ut.preprocess(Dat[k],param)\n",
    "        Dbzrf[k] = ut.preprocess(Dzrf[k],param,pca=Dbat[k].pcamed,mm=Dbat[k].mm,vertex=Dbat[k].vertex)\n",
    "        #Dbcaax[k] = ut.preprocess(Dcaax[k],param,pca=Dbat[k].pcamed,mm=Dbat[k].mm,vertex=Dbat[k].vertex)\n",
    "        print(k)\n",
    "    else:\n",
    "        print(k,'already processed')"
   ]
  },
  {
   "cell_type": "markdown",
   "metadata": {},
   "source": [
    "# Define experiment specific functions"
   ]
  },
  {
   "cell_type": "markdown",
   "metadata": {},
   "source": [
    "Define wrapper functions for starting and saving to minimize the number of inputs that the user needs to type for each call of the function."
   ]
  },
  {
   "cell_type": "code",
   "execution_count": 11,
   "metadata": {
    "collapsed": true
   },
   "outputs": [],
   "source": [
    "def start(k):\n",
    "    return(ut.start(k,Dbat,[Dbzrf],im=True))\n",
    "def save_both(k,dfa,dfb):\n",
    "    ut.save_both(k,dfa,dfb,outdir,param.expname)"
   ]
  },
  {
   "cell_type": "markdown",
   "metadata": {},
   "source": [
    "Save model parameters for each file to a dataframe that can be exported for later reference."
   ]
  },
  {
   "cell_type": "code",
   "execution_count": 12,
   "metadata": {
    "collapsed": true
   },
   "outputs": [],
   "source": [
    "model = pd.DataFrame({'a':[],'b':[],'c':[]})\n",
    "def save_model(k,mm,model):\n",
    "    row = pd.Series({'a':mm[0],'b':mm[1],'c':mm[2]},name=k)\n",
    "    model = model.append(row)\n",
    "    return(model)"
   ]
  },
  {
   "cell_type": "markdown",
   "metadata": {},
   "source": [
    "Define a function that can both fit a model and plot it on an existing plot"
   ]
  },
  {
   "cell_type": "code",
   "execution_count": 13,
   "metadata": {
    "collapsed": true
   },
   "outputs": [],
   "source": [
    "def fit_model(axi,df,mm=None):\n",
    "    if mm == None:\n",
    "        mm = np.polyfit(df.x,df.z,2)\n",
    "    p = np.poly1d(mm)\n",
    "    xrange = np.arange(np.min(df.x),np.max(df.x))\n",
    "    axi.plot(xrange,p(xrange),c='m')\n",
    "    return(mm)"
   ]
  },
  {
   "cell_type": "markdown",
   "metadata": {},
   "source": [
    "Take a set of points and transform to a dataframe format for ease of access."
   ]
  },
  {
   "cell_type": "code",
   "execution_count": 14,
   "metadata": {
    "collapsed": true
   },
   "outputs": [],
   "source": [
    "def pick_pts(x1,z1,vx,vz,x2,z2):\n",
    "    pts = pd.DataFrame({'x':[x1,vx,x2],'z':[z1,vz,z2]})\n",
    "    return(pts)"
   ]
  }
 ],
 "metadata": {
  "kernelspec": {
   "display_name": "Python [conda env:deltascope]",
   "language": "python",
   "name": "conda-env-deltascope-py"
  },
  "language_info": {
   "codemirror_mode": {
    "name": "ipython",
    "version": 3
   },
   "file_extension": ".py",
   "mimetype": "text/x-python",
   "name": "python",
   "nbconvert_exporter": "python",
   "pygments_lexer": "ipython3",
   "version": "3.7.1"
  }
 },
 "nbformat": 4,
 "nbformat_minor": 2
}
