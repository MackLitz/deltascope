{
 "cells": [
  {
   "cell_type": "code",
   "execution_count": 13,
   "metadata": {},
   "outputs": [],
   "source": [
    "import deltascope as ds\n",
    "import deltascope.alignment as ut\n",
    "\n",
    "import numpy as np\n",
    "import pandas as pd\n",
    "import matplotlib.pyplot as plt\n",
    "\n",
    "from sklearn.preprocessing import normalize\n",
    "from scipy.optimize import minimize\n",
    "\n",
    "import os\n",
    "import tqdm\n",
    "import json\n",
    "import time"
   ]
  },
  {
   "cell_type": "markdown",
   "metadata": {},
   "source": [
    "# Import raw data\n",
    "The user needs to specify the directories containing the data of interest. Each sample type should have a key which corresponds to the directory path. Additionally, each object should have a list that includes the channels of interest."
   ]
  },
  {
   "cell_type": "code",
   "execution_count": 2,
   "metadata": {},
   "outputs": [],
   "source": [
    "# --------------------------------\n",
    "# -------- User input ------------\n",
    "# --------------------------------\n",
    "\n",
    "data = {\n",
    "    # Specify sample type key\n",
    "    'wt': {\n",
    "        # Specify path to data directory\n",
    "        'path': './../yot_experiment/data/Output_wt_01-23-16-06',\n",
    "        # Specify which channels are in the directory and are of interest\n",
    "        'channels': ['AT','ZRF']\n",
    "    },\n",
    "    'yot': {\n",
    "        'path': './../yot_experiment/data/Output_yot_01-24-14-22',\n",
    "        'channels': ['AT','ZRF']\n",
    "    },\n",
    "    'hss1a': {\n",
    "        'path': './data/hss1a/Output-02-15-2019',\n",
    "        'channels': ['AT','ZRF']\n",
    "    },\n",
    "    'hss1ayot': {\n",
    "        'path': './data/hss1ayot/Output-02-15-2019',\n",
    "        'channels': ['AT','ZRF']\n",
    "    }\n",
    "}"
   ]
  },
  {
   "cell_type": "code",
   "execution_count": 3,
   "metadata": {},
   "outputs": [],
   "source": [
    "data_pairs = []\n",
    "for s in data.keys():\n",
    "    for c in data[s]['channels']:\n",
    "        data_pairs.append((s,c))"
   ]
  },
  {
   "cell_type": "markdown",
   "metadata": {},
   "source": [
    "We can now read in all datafiles specified by the `data` dictionary above."
   ]
  },
  {
   "cell_type": "code",
   "execution_count": 4,
   "metadata": {},
   "outputs": [
    {
     "name": "stderr",
     "output_type": "stream",
     "text": [
      "100%|██████████| 77/77 [00:14<00:00,  5.47it/s]\n",
      "100%|██████████| 77/77 [00:10<00:00,  2.62it/s]\n",
      "100%|██████████| 71/71 [00:03<00:00, 18.02it/s]\n",
      "100%|██████████| 71/71 [00:05<00:00,  7.63it/s]\n",
      "100%|██████████| 21/21 [00:00<00:00, 47.12it/s]\n",
      "100%|██████████| 21/21 [00:00<00:00, 23.41it/s]\n",
      "100%|██████████| 35/35 [00:00<00:00, 83.38it/s]\n",
      "100%|██████████| 35/35 [00:00<00:00, 44.11it/s]\n"
     ]
    }
   ],
   "source": [
    "D = {}\n",
    "for s in data.keys():\n",
    "    D[s] = {}\n",
    "    for c in data[s]['channels']:\n",
    "        D[s][c] = ds.read_psi_to_dict(data[s]['path'],c)"
   ]
  },
  {
   "cell_type": "markdown",
   "metadata": {},
   "source": [
    "Display the numer of samples for each sample type."
   ]
  },
  {
   "cell_type": "code",
   "execution_count": 6,
   "metadata": {
    "collapsed": false,
    "deletable": true,
    "editable": true
   },
   "outputs": [
    {
     "data": {
      "text/plain": [
       "(37, 34, 10, 17)"
      ]
     },
     "execution_count": 6,
     "metadata": {},
     "output_type": "execute_result"
    }
   ],
   "source": [
    "len(D['wt']['AT'].keys()),len(D['yot']['AT'].keys()),len(D['hss1a']['AT'].keys()),len(D['hss1ayot']['AT'].keys())"
   ]
  },
  {
   "cell_type": "markdown",
   "metadata": {
    "deletable": true,
    "editable": true
   },
   "source": [
    "# Landmarks"
   ]
  },
  {
   "cell_type": "markdown",
   "metadata": {},
   "source": [
    "Calculate landmark bins based on user input parameters and the previously specified control sample."
   ]
  },
  {
   "cell_type": "code",
   "execution_count": 10,
   "metadata": {},
   "outputs": [
    {
     "name": "stdout",
     "output_type": "stream",
     "text": [
      "Alpha bins\n",
      "[-83.53412655 -76.57294933 -69.61177212 -62.65059491 -55.6894177\n",
      " -48.72824048 -41.76706327 -34.80588606 -27.84470885 -20.88353164\n",
      " -13.92235442  -6.96117721   0.           6.96117721  13.92235442\n",
      "  20.88353164  27.84470885  34.80588606  41.76706327  48.72824048\n",
      "  55.6894177   62.65059491  69.61177212  76.57294933  83.53412655]\n",
      "Theta bins\n",
      "[-3.14159265 -2.35619449 -1.57079633 -0.78539816  0.          0.78539816\n",
      "  1.57079633  2.35619449  3.14159265]\n"
     ]
    }
   ],
   "source": [
    "lm = ds.landmarks(percbins=percbins, rnull=np.nan)\n",
    "lm.calc_bins(D[s_ctrl][c_ctrl], anum, theta_step)\n",
    "\n",
    "print('Alpha bins')\n",
    "print(lm.acbins)\n",
    "print('Theta bins')\n",
    "print(lm.tbins)"
   ]
  },
  {
   "cell_type": "code",
   "execution_count": 14,
   "metadata": {},
   "outputs": [],
   "source": [
    "lmdf = pd.DataFrame()\n",
    "\n",
    "# Loop through each pair of stype and channels\n",
    "for s,c in tqdm.tqdm(data_pairs):\n",
    "    print(s,c)\n",
    "    # Calculate landmarks for each sample with this data pair\n",
    "    for k,df in tqdm.tqdm(D[s][c].items()):\n",
    "        lmdf = lm.calc_perc(df, k, '-'.join([s,c]), lmdf)\n",
    "        \n",
    "# Set timestamp for saving data\n",
    "tstamp = time.strftime(\"%m-%d-%H-%M\",time.localtime())\n",
    "        \n",
    "# Save completed landmarks to a csv file\n",
    "lmdf.to_csv(tstamp+'_landmarks.csv')\n",
    "\n",
    "# Save landmark bins to json file\n",
    "bins = {\n",
    "    'acbins':list(lm.acbins),\n",
    "    'tbins':list(lm.tbins)\n",
    "}\n",
    "with open(tstamp+'_landmarks_bins.json', 'w') as outfile:\n",
    "    json.dump(bins, outfile)"
   ]
  }
 ],
 "metadata": {
  "anaconda-cloud": {},
  "kernelspec": {
   "display_name": "Python [conda env:deltascope]",
   "language": "python",
   "name": "conda-env-deltascope-py"
  },
  "language_info": {
   "codemirror_mode": {
    "name": "ipython",
    "version": 3
   },
   "file_extension": ".py",
   "mimetype": "text/x-python",
   "name": "python",
   "nbconvert_exporter": "python",
   "pygments_lexer": "ipython3",
   "version": "3.7.2"
  }
 },
 "nbformat": 4,
 "nbformat_minor": 2
}
