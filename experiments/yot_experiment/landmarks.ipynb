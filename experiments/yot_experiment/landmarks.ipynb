{
 "cells": [
  {
   "cell_type": "markdown",
   "metadata": {},
   "source": [
    "# Introduction: Landmarks"
   ]
  },
  {
   "cell_type": "code",
   "execution_count": 1,
   "metadata": {},
   "outputs": [],
   "source": [
    "import deltascope as ds\n",
    "import deltascope.alignment as ut\n",
    "\n",
    "import numpy as np\n",
    "import pandas as pd\n",
    "import matplotlib.pyplot as plt\n",
    "\n",
    "from sklearn.preprocessing import normalize\n",
    "from scipy.optimize import minimize\n",
    "\n",
    "import os\n",
    "import tqdm\n",
    "import json\n",
    "import time"
   ]
  },
  {
   "cell_type": "markdown",
   "metadata": {},
   "source": [
    "# Import raw data\n",
    "The user needs to specify the directories containing the data of interest. Each sample type should have a key which corresponds to the directory path. Additionally, each object should have a list that includes the channels of interest."
   ]
  },
  {
   "cell_type": "code",
   "execution_count": 2,
   "metadata": {},
   "outputs": [],
   "source": [
    "# --------------------------------\n",
    "# -------- User input ------------\n",
    "# --------------------------------\n",
    "\n",
    "data = {\n",
    "    # Specify sample type key\n",
    "    'wt': {\n",
    "        # Specify path to data directory\n",
    "        'path': './data/Output_wt03-09-21-29/',\n",
    "        # Specify which channels are in the directory and are of interest\n",
    "        'channels': ['AT','ZRF']\n",
    "    },\n",
    "    'you-too': {\n",
    "        'path': './data/Output_yot03-09-23-21/',\n",
    "        'channels': ['AT','ZRF']\n",
    "    }\n",
    "}"
   ]
  },
  {
   "cell_type": "markdown",
   "metadata": {},
   "source": [
    "We'll generate a list of pairs of stypes and channels for ease of use."
   ]
  },
  {
   "cell_type": "code",
   "execution_count": 3,
   "metadata": {},
   "outputs": [],
   "source": [
    "data_pairs = []\n",
    "for s in data.keys():\n",
    "    for c in data[s]['channels']:\n",
    "        data_pairs.append((s,c))"
   ]
  },
  {
   "cell_type": "markdown",
   "metadata": {},
   "source": [
    "We can now read in all datafiles specified by the `data` dictionary above."
   ]
  },
  {
   "cell_type": "code",
   "execution_count": 4,
   "metadata": {},
   "outputs": [
    {
     "name": "stderr",
     "output_type": "stream",
     "text": [
      "100%|██████████| 64/64 [00:44<00:00,  1.42it/s]\n",
      "100%|██████████| 64/64 [00:35<00:00,  1.52s/it]\n",
      "100%|██████████| 69/69 [00:14<00:00,  4.77it/s]\n",
      "100%|██████████| 69/69 [00:23<00:00,  1.78it/s]\n"
     ]
    }
   ],
   "source": [
    "D = {}\n",
    "for s in data.keys():\n",
    "    D[s] = {}\n",
    "    for c in data[s]['channels']:\n",
    "        D[s][c] = ds.read_psi_to_dict(data[s]['path'],c)"
   ]
  },
  {
   "cell_type": "markdown",
   "metadata": {},
   "source": [
    "# Calculate landmark bins\n",
    "Based on the analysis above, we can select the optimal value of alpha bins."
   ]
  },
  {
   "cell_type": "code",
   "execution_count": 5,
   "metadata": {},
   "outputs": [],
   "source": [
    "# --------------------------------\n",
    "# -------- User input ------------\n",
    "# --------------------------------\n",
    "\n",
    "# Pick an integer value for bin number based on results above\n",
    "anum = 25\n",
    "\n",
    "# Specify the percentiles which will be used to calculate landmarks\n",
    "percbins = [50]"
   ]
  },
  {
   "cell_type": "markdown",
   "metadata": {},
   "source": [
    "Calculate landmark bins based on user input parameters and the previously specified control sample."
   ]
  },
  {
   "cell_type": "code",
   "execution_count": 6,
   "metadata": {},
   "outputs": [],
   "source": [
    "theta_step = np.pi/4"
   ]
  },
  {
   "cell_type": "code",
   "execution_count": 7,
   "metadata": {},
   "outputs": [
    {
     "name": "stdout",
     "output_type": "stream",
     "text": [
      "Alpha bins\n",
      "[-81.64435845 -74.84066191 -68.03696537 -61.23326883 -54.4295723\n",
      " -47.62587576 -40.82217922 -34.01848269 -27.21478615 -20.41108961\n",
      " -13.60739307  -6.80369654   0.           6.80369654  13.60739307\n",
      "  20.41108961  27.21478615  34.01848269  40.82217922  47.62587576\n",
      "  54.4295723   61.23326883  68.03696537  74.84066191  81.64435845]\n",
      "Theta bins\n",
      "[-3.14159265 -2.35619449 -1.57079633 -0.78539816  0.          0.78539816\n",
      "  1.57079633  2.35619449  3.14159265]\n"
     ]
    }
   ],
   "source": [
    "lm = ds.landmarks(percbins=percbins, rnull=np.nan)\n",
    "lm.calc_bins(D['wt']['AT'], anum, theta_step)\n",
    "\n",
    "print('Alpha bins')\n",
    "print(lm.acbins)\n",
    "print('Theta bins')\n",
    "print(lm.tbins)"
   ]
  },
  {
   "cell_type": "markdown",
   "metadata": {},
   "source": [
    "# Calculate landmarks"
   ]
  },
  {
   "cell_type": "code",
   "execution_count": 8,
   "metadata": {},
   "outputs": [
    {
     "name": "stderr",
     "output_type": "stream",
     "text": [
      "  0%|          | 0/4 [00:00<?, ?it/s]"
     ]
    },
    {
     "name": "stdout",
     "output_type": "stream",
     "text": [
      "wt AT\n"
     ]
    },
    {
     "name": "stderr",
     "output_type": "stream",
     "text": [
      "\n",
      "  0%|          | 0/31 [00:00<?, ?it/s]\n",
      "  3%|▎         | 1/31 [00:00<00:18,  1.59it/s]\n",
      "  6%|▋         | 2/31 [00:01<00:18,  1.54it/s]\n",
      " 10%|▉         | 3/31 [00:01<00:18,  1.54it/s]\n",
      " 13%|█▎        | 4/31 [00:02<00:17,  1.57it/s]\n",
      " 16%|█▌        | 5/31 [00:03<00:16,  1.55it/s]\n",
      " 19%|█▉        | 6/31 [00:03<00:16,  1.55it/s]\n",
      " 23%|██▎       | 7/31 [00:04<00:16,  1.42it/s]\n",
      " 26%|██▌       | 8/31 [00:05<00:15,  1.44it/s]\n",
      " 29%|██▉       | 9/31 [00:06<00:15,  1.42it/s]\n",
      " 32%|███▏      | 10/31 [00:06<00:14,  1.48it/s]\n",
      " 35%|███▌      | 11/31 [00:07<00:13,  1.48it/s]\n",
      " 39%|███▊      | 12/31 [00:08<00:12,  1.51it/s]\n",
      " 42%|████▏     | 13/31 [00:08<00:12,  1.43it/s]\n",
      " 45%|████▌     | 14/31 [00:09<00:11,  1.48it/s]\n",
      " 48%|████▊     | 15/31 [00:10<00:10,  1.47it/s]\n",
      " 52%|█████▏    | 16/31 [00:11<00:11,  1.35it/s]\n",
      " 55%|█████▍    | 17/31 [00:11<00:10,  1.37it/s]\n",
      " 58%|█████▊    | 18/31 [00:12<00:09,  1.40it/s]\n",
      " 61%|██████▏   | 19/31 [00:13<00:08,  1.41it/s]\n",
      " 65%|██████▍   | 20/31 [00:13<00:07,  1.43it/s]\n",
      " 68%|██████▊   | 21/31 [00:14<00:07,  1.40it/s]\n",
      " 71%|███████   | 22/31 [00:15<00:07,  1.26it/s]\n",
      " 74%|███████▍  | 23/31 [00:16<00:06,  1.32it/s]\n",
      " 77%|███████▋  | 24/31 [00:16<00:04,  1.45it/s]\n",
      " 81%|████████  | 25/31 [00:17<00:03,  1.56it/s]\n",
      " 84%|████████▍ | 26/31 [00:17<00:03,  1.53it/s]\n",
      " 87%|████████▋ | 27/31 [00:18<00:02,  1.47it/s]\n",
      " 90%|█████████ | 28/31 [00:19<00:02,  1.48it/s]\n",
      " 94%|█████████▎| 29/31 [00:20<00:01,  1.48it/s]\n",
      " 97%|█████████▋| 30/31 [00:20<00:00,  1.50it/s]\n",
      "100%|██████████| 31/31 [00:21<00:00,  1.53it/s]\n",
      " 25%|██▌       | 1/4 [00:21<01:03, 21.29s/it]"
     ]
    },
    {
     "name": "stdout",
     "output_type": "stream",
     "text": [
      "wt ZRF\n"
     ]
    },
    {
     "name": "stderr",
     "output_type": "stream",
     "text": [
      "\n",
      "  0%|          | 0/31 [00:00<?, ?it/s]\n",
      "  3%|▎         | 1/31 [00:00<00:23,  1.29it/s]\n",
      "  6%|▋         | 2/31 [00:01<00:21,  1.33it/s]\n",
      " 10%|▉         | 3/31 [00:02<00:20,  1.35it/s]\n",
      " 13%|█▎        | 4/31 [00:02<00:19,  1.42it/s]\n",
      " 16%|█▌        | 5/31 [00:03<00:17,  1.45it/s]\n",
      " 19%|█▉        | 6/31 [00:04<00:17,  1.45it/s]\n",
      " 23%|██▎       | 7/31 [00:04<00:16,  1.47it/s]\n",
      " 26%|██▌       | 8/31 [00:05<00:15,  1.52it/s]\n",
      " 29%|██▉       | 9/31 [00:06<00:14,  1.52it/s]\n",
      " 32%|███▏      | 10/31 [00:06<00:13,  1.57it/s]\n",
      " 35%|███▌      | 11/31 [00:07<00:12,  1.62it/s]\n",
      " 39%|███▊      | 12/31 [00:07<00:11,  1.60it/s]\n",
      " 42%|████▏     | 13/31 [00:08<00:11,  1.63it/s]\n",
      " 45%|████▌     | 14/31 [00:09<00:10,  1.62it/s]\n",
      " 48%|████▊     | 15/31 [00:09<00:09,  1.65it/s]\n",
      " 52%|█████▏    | 16/31 [00:10<00:09,  1.61it/s]\n",
      " 55%|█████▍    | 17/31 [00:10<00:08,  1.58it/s]\n",
      " 58%|█████▊    | 18/31 [00:11<00:08,  1.58it/s]\n",
      " 61%|██████▏   | 19/31 [00:12<00:07,  1.51it/s]\n",
      " 65%|██████▍   | 20/31 [00:13<00:07,  1.52it/s]\n",
      " 68%|██████▊   | 21/31 [00:13<00:06,  1.58it/s]\n",
      " 71%|███████   | 22/31 [00:14<00:05,  1.54it/s]\n",
      " 74%|███████▍  | 23/31 [00:14<00:05,  1.58it/s]\n",
      " 77%|███████▋  | 24/31 [00:15<00:04,  1.61it/s]\n",
      " 81%|████████  | 25/31 [00:16<00:03,  1.62it/s]\n",
      " 84%|████████▍ | 26/31 [00:16<00:03,  1.63it/s]\n",
      " 87%|████████▋ | 27/31 [00:17<00:02,  1.58it/s]\n",
      " 90%|█████████ | 28/31 [00:18<00:01,  1.50it/s]\n",
      " 94%|█████████▎| 29/31 [00:18<00:01,  1.45it/s]\n",
      " 97%|█████████▋| 30/31 [00:19<00:00,  1.41it/s]\n",
      "100%|██████████| 31/31 [00:20<00:00,  1.42it/s]\n",
      " 50%|█████     | 2/4 [00:41<00:41, 20.99s/it]"
     ]
    },
    {
     "name": "stdout",
     "output_type": "stream",
     "text": [
      "you-too AT\n"
     ]
    },
    {
     "name": "stderr",
     "output_type": "stream",
     "text": [
      "\n",
      "  0%|          | 0/34 [00:00<?, ?it/s]\n",
      "  3%|▎         | 1/34 [00:00<00:17,  1.91it/s]\n",
      "  6%|▌         | 2/34 [00:01<00:16,  1.92it/s]\n",
      "  9%|▉         | 3/34 [00:01<00:16,  1.93it/s]\n",
      " 12%|█▏        | 4/34 [00:02<00:15,  1.95it/s]\n",
      " 15%|█▍        | 5/34 [00:02<00:15,  1.91it/s]\n",
      " 18%|█▊        | 6/34 [00:03<00:14,  1.93it/s]\n",
      " 21%|██        | 7/34 [00:03<00:14,  1.84it/s]\n",
      " 24%|██▎       | 8/34 [00:04<00:14,  1.77it/s]\n",
      " 26%|██▋       | 9/34 [00:04<00:13,  1.84it/s]\n",
      " 29%|██▉       | 10/34 [00:05<00:12,  1.87it/s]\n",
      " 32%|███▏      | 11/34 [00:05<00:12,  1.89it/s]\n",
      " 35%|███▌      | 12/34 [00:06<00:11,  1.88it/s]\n",
      " 38%|███▊      | 13/34 [00:06<00:11,  1.85it/s]\n",
      " 41%|████      | 14/34 [00:07<00:10,  1.83it/s]\n",
      " 44%|████▍     | 15/34 [00:08<00:10,  1.78it/s]\n",
      " 47%|████▋     | 16/34 [00:08<00:09,  1.81it/s]\n",
      " 50%|█████     | 17/34 [00:09<00:09,  1.84it/s]\n",
      " 53%|█████▎    | 18/34 [00:09<00:08,  1.84it/s]\n",
      " 56%|█████▌    | 19/34 [00:10<00:08,  1.83it/s]\n",
      " 59%|█████▉    | 20/34 [00:10<00:07,  1.82it/s]\n",
      " 62%|██████▏   | 21/34 [00:11<00:07,  1.80it/s]\n",
      " 65%|██████▍   | 22/34 [00:11<00:06,  1.79it/s]\n",
      " 68%|██████▊   | 23/34 [00:12<00:06,  1.67it/s]\n",
      " 71%|███████   | 24/34 [00:13<00:06,  1.66it/s]\n",
      " 74%|███████▎  | 25/34 [00:13<00:05,  1.66it/s]\n",
      " 76%|███████▋  | 26/34 [00:14<00:04,  1.68it/s]\n",
      " 79%|███████▉  | 27/34 [00:15<00:04,  1.68it/s]\n",
      " 82%|████████▏ | 28/34 [00:15<00:03,  1.74it/s]\n",
      " 85%|████████▌ | 29/34 [00:16<00:03,  1.65it/s]\n",
      " 88%|████████▊ | 30/34 [00:16<00:02,  1.59it/s]\n",
      " 91%|█████████ | 31/34 [00:17<00:01,  1.65it/s]\n",
      " 94%|█████████▍| 32/34 [00:18<00:01,  1.69it/s]\n",
      " 97%|█████████▋| 33/34 [00:18<00:00,  1.69it/s]\n",
      "100%|██████████| 34/34 [00:19<00:00,  1.67it/s]\n",
      " 75%|███████▌  | 3/4 [01:00<00:20, 20.47s/it]"
     ]
    },
    {
     "name": "stdout",
     "output_type": "stream",
     "text": [
      "you-too ZRF\n"
     ]
    },
    {
     "name": "stderr",
     "output_type": "stream",
     "text": [
      "\n",
      "  0%|          | 0/34 [00:00<?, ?it/s]\n",
      "  3%|▎         | 1/34 [00:00<00:19,  1.72it/s]\n",
      "  6%|▌         | 2/34 [00:01<00:18,  1.77it/s]\n",
      "  9%|▉         | 3/34 [00:01<00:17,  1.76it/s]\n",
      " 12%|█▏        | 4/34 [00:02<00:17,  1.75it/s]\n",
      " 15%|█▍        | 5/34 [00:02<00:17,  1.68it/s]\n",
      " 18%|█▊        | 6/34 [00:03<00:17,  1.64it/s]\n",
      " 21%|██        | 7/34 [00:04<00:16,  1.62it/s]\n",
      " 24%|██▎       | 8/34 [00:04<00:16,  1.62it/s]\n",
      " 26%|██▋       | 9/34 [00:05<00:14,  1.69it/s]\n",
      " 29%|██▉       | 10/34 [00:06<00:14,  1.62it/s]\n",
      " 32%|███▏      | 11/34 [00:06<00:14,  1.60it/s]\n",
      " 35%|███▌      | 12/34 [00:07<00:13,  1.67it/s]\n",
      " 38%|███▊      | 13/34 [00:07<00:12,  1.74it/s]\n",
      " 41%|████      | 14/34 [00:08<00:11,  1.76it/s]\n",
      " 44%|████▍     | 15/34 [00:08<00:10,  1.73it/s]\n",
      " 47%|████▋     | 16/34 [00:09<00:10,  1.75it/s]\n",
      " 50%|█████     | 17/34 [00:09<00:09,  1.79it/s]\n",
      " 53%|█████▎    | 18/34 [00:10<00:08,  1.85it/s]\n",
      " 56%|█████▌    | 19/34 [00:10<00:08,  1.86it/s]\n",
      " 59%|█████▉    | 20/34 [00:11<00:07,  1.86it/s]\n",
      " 62%|██████▏   | 21/34 [00:12<00:06,  1.87it/s]\n",
      " 65%|██████▍   | 22/34 [00:12<00:06,  1.93it/s]\n",
      " 68%|██████▊   | 23/34 [00:13<00:07,  1.52it/s]\n",
      " 71%|███████   | 24/34 [00:14<00:06,  1.47it/s]\n",
      " 74%|███████▎  | 25/34 [00:15<00:06,  1.37it/s]\n",
      " 76%|███████▋  | 26/34 [00:15<00:05,  1.43it/s]\n",
      " 79%|███████▉  | 27/34 [00:16<00:04,  1.60it/s]\n",
      " 82%|████████▏ | 28/34 [00:16<00:03,  1.68it/s]\n",
      " 85%|████████▌ | 29/34 [00:17<00:02,  1.70it/s]\n",
      " 88%|████████▊ | 30/34 [00:17<00:02,  1.81it/s]\n",
      " 91%|█████████ | 31/34 [00:18<00:01,  1.85it/s]\n",
      " 94%|█████████▍| 32/34 [00:18<00:01,  1.78it/s]\n",
      " 97%|█████████▋| 33/34 [00:19<00:00,  1.80it/s]\n",
      "100%|██████████| 34/34 [00:19<00:00,  1.82it/s]\n",
      "100%|██████████| 4/4 [01:20<00:00, 20.31s/it]\n"
     ]
    },
    {
     "name": "stdout",
     "output_type": "stream",
     "text": [
      "Landmarks saved to csv\n",
      "Bins saved to json\n"
     ]
    }
   ],
   "source": [
    "lmdf = pd.DataFrame()\n",
    "\n",
    "# Loop through each pair of stype and channels\n",
    "for s,c in tqdm.tqdm(data_pairs):\n",
    "    print(s,c)\n",
    "    # Calculate landmarks for each sample with this data pair\n",
    "    for k,df in tqdm.tqdm(D[s][c].items()):\n",
    "        lmdf = lm.calc_perc(df, k, '-'.join([s,c]), lmdf)\n",
    "        \n",
    "# Set timestamp for saving data\n",
    "tstamp = time.strftime(\"%m-%d-%H-%M\",time.localtime())\n",
    "        \n",
    "# Save completed landmarks to a csv file\n",
    "lmdf.to_csv(tstamp+'_landmarks.csv')\n",
    "print('Landmarks saved to csv')\n",
    "\n",
    "# Save landmark bins to json file\n",
    "bins = {\n",
    "    'acbins':list(lm.acbins),\n",
    "    'tbins':list(lm.tbins)\n",
    "}\n",
    "with open(tstamp+'_landmarks_bins.json', 'w') as outfile:\n",
    "    json.dump(bins, outfile)\n",
    "print('Bins saved to json')"
   ]
  }
 ],
 "metadata": {
  "kernelspec": {
   "display_name": "Python [conda env:test]",
   "language": "python",
   "name": "conda-env-test-py"
  },
  "language_info": {
   "codemirror_mode": {
    "name": "ipython",
    "version": 3
   },
   "file_extension": ".py",
   "mimetype": "text/x-python",
   "name": "python",
   "nbconvert_exporter": "python",
   "pygments_lexer": "ipython3",
   "version": "3.7.1"
  }
 },
 "nbformat": 4,
 "nbformat_minor": 2
}
